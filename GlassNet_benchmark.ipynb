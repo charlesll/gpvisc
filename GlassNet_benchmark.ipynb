{
 "cells": [
  {
   "cell_type": "code",
   "execution_count": 2,
   "id": "e970ec79-51e3-464f-a211-a6759c57c1f8",
   "metadata": {},
   "outputs": [],
   "source": [
    "from glasspy.predict import GlassNet\n",
    "import pandas as pd\n",
    "import src.utils as utils"
   ]
  },
  {
   "cell_type": "code",
   "execution_count": 3,
   "id": "80b44e24-d074-4f0c-8da0-c28aa8286e57",
   "metadata": {},
   "outputs": [],
   "source": [
    "# Load dataset at low pressure\n",
    "visco = pd.read_excel(\"./data/Database.xlsx\", sheet_name=\"lp\")"
   ]
  },
  {
   "cell_type": "code",
   "execution_count": 9,
   "id": "4a645368-0d48-4370-b18f-4f6a5290ff5e",
   "metadata": {},
   "outputs": [],
   "source": [
    "columns_name = {\"sio2\":\"SiO2\",\n",
    "                \"tio2\":\"TiO2\",\n",
    "                \"al2o3\":\"Al2O3\",\n",
    "                \"fe2o3\":\"Fe2O3\",\n",
    "                \"feo\":\"FeO\",\n",
    "                \"mno\":\"MnO\",\n",
    "                \"na2o\":\"Na2O\",\n",
    "                \"k2o\":\"K2O\",\n",
    "                \"mgo\":\"MgO\",\n",
    "                \"cao\":\"CaO\",\n",
    "               \"p2o5\":\"P2O5\",\n",
    "               \"h2o\":\"H2O\"}\n",
    "\n",
    "compo = visco.loc[:,utils.list_oxides()].rename(columns=columns_name)\n",
    "T = visco.loc[:,\"T\"]"
   ]
  },
  {
   "cell_type": "code",
   "execution_count": 10,
   "id": "9e3cc2f7-3e36-4799-a7b1-26dba4ea453f",
   "metadata": {},
   "outputs": [
    {
     "ename": "NameError",
     "evalue": "name 'np' is not defined",
     "output_type": "error",
     "traceback": [
      "\u001b[0;31m---------------------------------------------------------------------------\u001b[0m",
      "\u001b[0;31mNameError\u001b[0m                                 Traceback (most recent call last)",
      "Input \u001b[0;32mIn [10]\u001b[0m, in \u001b[0;36m<cell line: 12>\u001b[0;34m()\u001b[0m\n\u001b[1;32m      9\u001b[0m     se \u001b[38;5;241m=\u001b[39m np\u001b[38;5;241m.\u001b[39mnan_to_num((y\u001b[38;5;241m-\u001b[39my2)\u001b[38;5;241m*\u001b[39m\u001b[38;5;241m*\u001b[39m\u001b[38;5;241m2\u001b[39m) \u001b[38;5;66;03m# here we convert NaN to 0 so that it has little effect on RMSE\u001b[39;00m\n\u001b[1;32m     10\u001b[0m     \u001b[38;5;28;01mreturn\u001b[39;00m np\u001b[38;5;241m.\u001b[39msqrt(np\u001b[38;5;241m.\u001b[39mmean(se))\n\u001b[0;32m---> 12\u001b[0m mse_glasspy \u001b[38;5;241m=\u001b[39m \u001b[43mrmse_robust_to_nan\u001b[49m\u001b[43m(\u001b[49m\u001b[43my_glasspy\u001b[49m\u001b[38;5;241;43m.\u001b[39;49m\u001b[43mravel\u001b[49m\u001b[43m(\u001b[49m\u001b[43m)\u001b[49m\u001b[43m,\u001b[49m\u001b[43mvisco\u001b[49m\u001b[38;5;241;43m.\u001b[39;49m\u001b[43mviscosity\u001b[49m\u001b[38;5;241;43m.\u001b[39;49m\u001b[43mvalues\u001b[49m\u001b[38;5;241;43m.\u001b[39;49m\u001b[43mravel\u001b[49m\u001b[43m(\u001b[49m\u001b[43m)\u001b[49m\u001b[43m)\u001b[49m\n\u001b[1;32m     13\u001b[0m \u001b[38;5;28mprint\u001b[39m(\u001b[38;5;124m\"\u001b[39m\u001b[38;5;124mGlassPy: \u001b[39m\u001b[38;5;132;01m{:.2f}\u001b[39;00m\u001b[38;5;124m\"\u001b[39m\u001b[38;5;241m.\u001b[39mformat(mse_glasspy))\n",
      "Input \u001b[0;32mIn [10]\u001b[0m, in \u001b[0;36mrmse_robust_to_nan\u001b[0;34m(y, y2)\u001b[0m\n\u001b[1;32m      8\u001b[0m \u001b[38;5;28;01mdef\u001b[39;00m \u001b[38;5;21mrmse_robust_to_nan\u001b[39m(y, y2):\n\u001b[0;32m----> 9\u001b[0m     se \u001b[38;5;241m=\u001b[39m \u001b[43mnp\u001b[49m\u001b[38;5;241m.\u001b[39mnan_to_num((y\u001b[38;5;241m-\u001b[39my2)\u001b[38;5;241m*\u001b[39m\u001b[38;5;241m*\u001b[39m\u001b[38;5;241m2\u001b[39m) \u001b[38;5;66;03m# here we convert NaN to 0 so that it has little effect on RMSE\u001b[39;00m\n\u001b[1;32m     10\u001b[0m     \u001b[38;5;28;01mreturn\u001b[39;00m np\u001b[38;5;241m.\u001b[39msqrt(np\u001b[38;5;241m.\u001b[39mmean(se))\n",
      "\u001b[0;31mNameError\u001b[0m: name 'np' is not defined"
     ]
    }
   ],
   "source": [
    "# get models\n",
    "model = GlassNet()\n",
    "\n",
    "# make predictions\n",
    "y_glasspy = model.predict_log10_viscosity(T=T, composition=compo)"
   ]
  },
  {
   "cell_type": "code",
   "execution_count": 11,
   "id": "41cf1d71-ce08-482c-950e-05db4d7c60d5",
   "metadata": {},
   "outputs": [
    {
     "name": "stdout",
     "output_type": "stream",
     "text": [
      "GlassPy: 0.95\n"
     ]
    }
   ],
   "source": [
    "import numpy as np\n",
    "# report RMSE\n",
    "def rmse_robust_to_nan(y, y2):\n",
    "    se = np.nan_to_num((y-y2)**2) # here we convert NaN to 0 so that it has little effect on RMSE\n",
    "    return np.sqrt(np.mean(se))\n",
    "\n",
    "mse_glasspy = rmse_robust_to_nan(y_glasspy.ravel(),visco.viscosity.values.ravel())\n",
    "print(\"GlassPy: {:.2f}\".format(mse_glasspy))\n"
   ]
  },
  {
   "cell_type": "code",
   "execution_count": null,
   "id": "91a42a70-89cf-4796-bcba-c6a190ab21e4",
   "metadata": {},
   "outputs": [],
   "source": []
  }
 ],
 "metadata": {
  "kernelspec": {
   "display_name": "Python 3 (ipykernel)",
   "language": "python",
   "name": "python3"
  },
  "language_info": {
   "codemirror_mode": {
    "name": "ipython",
    "version": 3
   },
   "file_extension": ".py",
   "mimetype": "text/x-python",
   "name": "python",
   "nbconvert_exporter": "python",
   "pygments_lexer": "ipython3",
   "version": "3.9.13"
  }
 },
 "nbformat": 4,
 "nbformat_minor": 5
}
